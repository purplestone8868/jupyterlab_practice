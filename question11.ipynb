{
 "cells": [
  {
   "cell_type": "markdown",
   "id": "ea77bda0-0679-466d-a826-ce20edc09ba4",
   "metadata": {},
   "source": [
    "# Yu Zhu\n",
    "Notebook for assignment 7"
   ]
  },
  {
   "cell_type": "code",
   "execution_count": 4,
   "id": "666e787a-8014-4a64-a5e6-2621f26c8072",
   "metadata": {},
   "outputs": [
    {
     "data": {
      "text/plain": [
       "5.0"
      ]
     },
     "execution_count": 4,
     "metadata": {},
     "output_type": "execute_result"
    }
   ],
   "source": [
    "def compute_mean(numbers):\n",
    "    return sum(numbers)/len(numbers)\n",
    "\n",
    "compute_mean([2,4,6,8])"
   ]
  },
  {
   "cell_type": "markdown",
   "id": "c9ffba50-b0f0-415f-a17c-8413f3d6af10",
   "metadata": {},
   "source": [
    "This function calculates a list of numbers by dividing the sum by the number of elements.\n",
    "\n",
    "$$ \\bar{x} = \\frac{x_1 + x_2 + \\cdots + x_n}{n} $$\n",
    "\n",
    "$$ \\bar{x} = \\frac{1}{n} \\sum_{i=1}^{n} x_i $$\n"
   ]
  },
  {
   "cell_type": "code",
   "execution_count": null,
   "id": "8050848a-6369-47ec-bc99-19d82435baef",
   "metadata": {},
   "outputs": [],
   "source": []
  },
  {
   "cell_type": "code",
   "execution_count": null,
   "id": "2de1601a-2302-40d4-b604-eaefbc88bcc9",
   "metadata": {},
   "outputs": [],
   "source": []
  },
  {
   "cell_type": "code",
   "execution_count": null,
   "id": "8ba48013-3292-4102-92b6-107320c6961c",
   "metadata": {},
   "outputs": [],
   "source": []
  }
 ],
 "metadata": {
  "kernelspec": {
   "display_name": "Python [conda env:base] *",
   "language": "python",
   "name": "conda-base-py"
  },
  "language_info": {
   "codemirror_mode": {
    "name": "ipython",
    "version": 3
   },
   "file_extension": ".py",
   "mimetype": "text/x-python",
   "name": "python",
   "nbconvert_exporter": "python",
   "pygments_lexer": "ipython3",
   "version": "3.13.5"
  }
 },
 "nbformat": 4,
 "nbformat_minor": 5
}
